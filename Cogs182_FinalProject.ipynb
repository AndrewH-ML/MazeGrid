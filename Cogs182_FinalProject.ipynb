{
  "nbformat": 4,
  "nbformat_minor": 0,
  "metadata": {
    "colab": {
      "name": "Cogs182_FinalProject",
      "provenance": [],
      "collapsed_sections": [],
      "machine_shape": "hm",
      "authorship_tag": "ABX9TyMbr4GrND/YIciVRgyIdKtK",
      "include_colab_link": true
    },
    "kernelspec": {
      "display_name": "Python 3",
      "name": "python3"
    }
  },
  "cells": [
    {
      "cell_type": "markdown",
      "metadata": {
        "id": "view-in-github",
        "colab_type": "text"
      },
      "source": [
        "<a href=\"https://colab.research.google.com/github/AndrewH707/MazeGrid/blob/main/Cogs182_FinalProject.ipynb\" target=\"_parent\"><img src=\"https://colab.research.google.com/assets/colab-badge.svg\" alt=\"Open In Colab\"/></a>"
      ]
    },
    {
      "cell_type": "code",
      "metadata": {
        "id": "qKu9XqxUIKjv"
      },
      "source": [
        "import collections"
      ],
      "execution_count": 2,
      "outputs": []
    },
    {
      "cell_type": "code",
      "metadata": {
        "id": "lZz7_vnXjouY"
      },
      "source": [
        "import numpy as np\r\n",
        "from matplotlib import pyplot as plt\r\n",
        "\r\n",
        "Actions = {\r\n",
        "    0: [-1, 0], # north\r\n",
        "    1: [1, 0], # south\r\n",
        "    2: [0, -1], # west\r\n",
        "    3: [0, 1] # east\r\n",
        "} \r\n",
        "\r\n",
        "##################\r\n",
        "# In this game, there are two fixed bombs and the agent randomly starts\r\n",
        "# at one of the four corners. There are four barriers blocking the entrance\r\n",
        "# to the desired terminal state(the chest). There are only two appropriate\r\n",
        "# paths to the chest. The two bombs are also terminal states. \r\n",
        "####################\r\n",
        "\r\n",
        "class MazeGrid():\r\n",
        "\r\n",
        "  def __init__(self, size):\r\n",
        "    # this function initializes the environment \r\n",
        "    self.size = size \r\n",
        "    self.hard_reset()\r\n",
        "    return\r\n",
        "\r\n",
        "  def hard_reset(self):\r\n",
        "    self.state_action_values = collections.defaultdict(float)\r\n",
        "    self.reset()\r\n",
        "\r\n",
        "  def reset(self): # this function resets the grid to initial conditions\r\n",
        "    self.terminal  = False\r\n",
        "    self.current_state = self.corner()\r\n",
        "    return\r\n",
        "  \r\n",
        "  # randomly picks corner to start new game from\r\n",
        "  def corner(self):\r\n",
        "    row, column = np.random.choice([0, 8], 2)\r\n",
        "    corner = (row, column)\r\n",
        "    return corner\r\n",
        "\r\n",
        "  def collision(self, state):\r\n",
        "    # this function checks whether the given state is a collision with \r\n",
        "    # a barrier\r\n",
        "    # returns true for collision,  false for no collision\r\n",
        "    if state in [(4, 3), (5, 3), (6, 3), (7, 3), (7, 4), (1, 4), (1, 5), (2, 5), (3, 5), (4, 5)]:\r\n",
        "      return True\r\n",
        "    else: return False\r\n",
        "\r\n",
        "  def bomb(self, state):\r\n",
        "    # checks to see if the given state is on a bomb and returns true if it is\r\n",
        "    if state in [(3, 3), (5, 5)]:\r\n",
        "      return True\r\n",
        "    else:\r\n",
        "      return False\r\n",
        "\r\n",
        "  def step(self, current_state, action, change_values = True): # this step function takes in an action and \r\n",
        "                                 # the current state as input. \r\n",
        "\r\n",
        "    reward = -1 # on all non-terminal transitions \r\n",
        "    size = self.size - 1\r\n",
        "\r\n",
        "    s_prime = (current_state[0] + action[0], current_state[1] + action[1])\r\n",
        "   \r\n",
        "   # check out of bounds condition vertical\r\n",
        "    if s_prime[0] < 0 or s_prime[0] > size:\r\n",
        "      s_prime = current_state # return same state\r\n",
        "    # check out of bounds condition; horizontal\r\n",
        "    if s_prime[1] < 0 or s_prime[1] > size:\r\n",
        "      s_prime = current_state\r\n",
        "    # check for any collisions with barriers \r\n",
        "    if (self.collision(s_prime) == True):\r\n",
        "      s_prime = current_state\r\n",
        "    \r\n",
        "        # check for any bombs\r\n",
        "    if (self.bomb(s_prime) == True):\r\n",
        "      reward = -5\r\n",
        "      if (change_values == True):\r\n",
        "        self.terminal = True\r\n",
        "\r\n",
        "    # check to see if end goal is met\r\n",
        "    if (s_prime == (4, 4)):\r\n",
        "      if (change_values == True):\r\n",
        "        self.terminal = True\r\n",
        "\r\n",
        "    #no more remaning checks, return next state and reward\r\n",
        "    if (change_values == True):\r\n",
        "      self.current_state = s_prime\r\n",
        "    \r\n",
        "    return s_prime, reward \r\n",
        "\r\n",
        "  def best_action(self, state):\r\n",
        "    up = self.state_action_values[state, 0]\r\n",
        "    down = self.state_action_values[state, 1]\r\n",
        "    left = self.state_action_values[state, 2]\r\n",
        "    right = self.state_action_values[state, 3]\r\n",
        "    action_values  = [up, down, left, right]\r\n",
        "    a = np.random.choice(np.flatnonzero(action_values == np.max(action_values)))\r\n",
        "    return a # return index of the best Action\r\n",
        "\r\n",
        "  def e_greedy(self, epsilon, state):\r\n",
        "    greedy = (1 - epsilon) + (epsilon/len(Actions))\r\n",
        "    non_greedy = epsilon/len(Actions)\r\n",
        "    p = [greedy, non_greedy]\r\n",
        "    p = np.array(p)\r\n",
        "    p /= p.sum() #normalize probabilities so they sum to 1\r\n",
        "    choice = np.random.choice(['greedy', 'non-greedy'], p = p)  \r\n",
        "\r\n",
        "    if choice == 'greedy':\r\n",
        "      action_index = self.best_action(state)# return index of best action\r\n",
        "\r\n",
        "    else:\r\n",
        "\r\n",
        "      index_options = [0, 1, 2, 3]\r\n",
        "      index_options.remove(self.best_action(state))\r\n",
        "      action_index = np.random.choice(a = index_options) # a random choice from a list \r\n",
        "                                                # of non-optimal action indicies\r\n",
        "      \r\n",
        "    return action_index\r\n",
        "\r\n",
        "\r\n",
        "  def MC_episode(self, epsilon):\r\n",
        "    self.reset()\r\n",
        "    episode = []\r\n",
        "    current_state = self.current_state\r\n",
        "    terminal = self.terminal\r\n",
        "    while (terminal != True):\r\n",
        "      action_index = self.e_greedy(epsilon, current_state)\r\n",
        "      action = Actions[action_index]\r\n",
        "      next_state, reward = self.step(current_state, action)\r\n",
        "      episode.append((current_state, action_index, reward))\r\n",
        "      current_state = next_state\r\n",
        "      terminal = self.terminal\r\n",
        "    return episode\r\n",
        "\r\n",
        "  # Here, we implmenent an on-policy first-visit algorithm for \r\n",
        "  # Monte Carlo control\r\n",
        "\r\n",
        "  def on_policy_first_visit_MC(self, gamma = 1, epsilon = 0.1, episodes = 500):\r\n",
        "    self.hard_reset()\r\n",
        "    counts = collections.defaultdict(int)\r\n",
        "    returns = collections.defaultdict(float)\r\n",
        "\r\n",
        "    for i in range(episodes): # number of episodes\r\n",
        "      episode = self.MC_episode(epsilon)\r\n",
        "      G = 0 # initialize return\r\n",
        "      state_action_pairs = [(s, a) for (s, a, r) in episode]\r\n",
        "      visited = collections.defaultdict(lambda:False)\r\n",
        "      for t, (state, action, reward) in enumerate(episode):\r\n",
        "        # check if the pair already exists\r\n",
        "        G = gamma*G + reward\r\n",
        "        if (visited[state, action] != True):\r\n",
        "          returns[state, action] += G\r\n",
        "          counts[state, action] += 1\r\n",
        "          self.state_action_values[state, action] = returns[state, action]/counts[state, action]\r\n",
        "          visited[state, action] = True\r\n",
        "\r\n",
        "      if ((i+1 <= 20) and ((i+1) % 5 == 0)):\r\n",
        "        print('EPisode:', i+1)\r\n",
        "        self.visualize(self.state_action_values)\r\n",
        "      elif ((i+1 > 20) and ((i+1)%100 == 0)):\r\n",
        "        print('Episode :', i+1)\r\n",
        "        self.visualize(self.state_action_values)\r\n",
        "    return \r\n",
        "  \r\n",
        "  def Q_learning(self, gamma, epsilon, alpha, episodes):\r\n",
        "    self.hard_reset()\r\n",
        "    for i in range(episodes):\r\n",
        "      self.reset()\r\n",
        "      state = self.current_state\r\n",
        "      while (self.terminal != True):\r\n",
        "        a = self.e_greedy(epsilon, state)\r\n",
        "        next_state, reward = self.step(state, Actions[a], change_values = True)\r\n",
        "        next_a = self.best_action(next_state)\r\n",
        "        next_s_a_value = self.state_action_values[next_state, next_a]\r\n",
        "        current_s_a_value = self.state_action_values[state, a]\r\n",
        "        self.state_action_values[state, a] = current_s_a_value + alpha*(reward + gamma*next_s_a_value - current_s_a_value)\r\n",
        "        state = next_state\r\n",
        "\r\n",
        "      if ((i + 1) % 50 == 0):\r\n",
        "        print('Episode :', i+1)\r\n",
        "        self.visualize(self.state_action_values) # create plot\r\n",
        "    return\r\n",
        "\r\n",
        "  def visualize(self, dictionary):\r\n",
        "    size = self.size\r\n",
        "    z = np.zeros((size,size, 4))\r\n",
        "    for key in dictionary:\r\n",
        "      state = (key[0][0], key[0][1])\r\n",
        "      action = key[1]\r\n",
        "      value = dictionary[key]\r\n",
        "      z[state[0], state[1], action] = value \r\n",
        "    o = np.zeros((size, size))\r\n",
        "    for i in range(0, size, 1):# rows\r\n",
        "      for j in range(0, size, 1):# columns\r\n",
        "        o[i, j] = np.max((z[i, j])) # use the value belonging to the optimal action\r\n",
        "\r\n",
        "    c = plt.imshow(o, cmap = 'hot', interpolation= 'nearest') #heatmap to show our\r\n",
        "    plt.colorbar(c)\r\n",
        "    plt.title('State Values')\r\n",
        "    plt.show()\r\n",
        "    return \r\n"
      ],
      "execution_count": 6,
      "outputs": []
    },
    {
      "cell_type": "code",
      "metadata": {
        "colab": {
          "base_uri": "https://localhost:8080/",
          "height": 1000
        },
        "id": "v8tcs3xNGDyc",
        "outputId": "c6ee7b39-9b39-4f96-ad45-8754625e9bec"
      },
      "source": [
        "Q = MazeGrid(9)\n",
        "Q.Q_learning(gamma = 1, epsilon = .15, alpha = 0.1, episodes = 500)"
      ],
      "execution_count": 7,
      "outputs": [
        {
          "output_type": "stream",
          "text": [
            "Episode : 50\n"
          ],
          "name": "stdout"
        },
        {
          "output_type": "display_data",
          "data": {
            "image/png": "[encoded data removed]",
            "text/plain": [
              "<Figure size 432x288 with 2 Axes>"
            ]
          },
          "metadata": {
            "tags": [],
            "needs_background": "light"
          }
        },
        {
          "output_type": "stream",
          "text": [
            "Episode : 100\n"
          ],
          "name": "stdout"
        },
        {
          "output_type": "display_data",
          "data": {
            "image/png": "[encoded data removed]",
            "text/plain": [
              "<Figure size 432x288 with 2 Axes>"
            ]
          },
          "metadata": {
            "tags": [],
            "needs_background": "light"
          }
        },
        {
          "output_type": "stream",
          "text": [
            "Episode : 150\n"
          ],
          "name": "stdout"
        },
        {
          "output_type": "display_data",
          "data": {
            "image/png": "[encoded data removed]",
            "text/plain": [
              "<Figure size 432x288 with 2 Axes>"
            ]
          },
          "metadata": {
            "tags": [],
            "needs_background": "light"
          }
        },
        {
          "output_type": "stream",
          "text": [
            "Episode : 200\n"
          ],
          "name": "stdout"
        },
        {
          "output_type": "display_data",
          "data": {
            "image/png": "[encoded data removed]",
            "text/plain": [
              "<Figure size 432x288 with 2 Axes>"
            ]
          },
          "metadata": {
            "tags": [],
            "needs_background": "light"
          }
        },
        {
          "output_type": "stream",
          "text": [
            "Episode : 250\n"
          ],
          "name": "stdout"
        },
        {
          "output_type": "display_data",
          "data": {
            "image/png": "[encoded data removed]",
            "text/plain": [
              "<Figure size 432x288 with 2 Axes>"
            ]
          },
          "metadata": {
            "tags": [],
            "needs_background": "light"
          }
        },
        {
          "output_type": "stream",
          "text": [
            "Episode : 300\n"
          ],
          "name": "stdout"
        },
        {
          "output_type": "display_data",
          "data": {
            "image/png": "[encoded data removed]",
            "text/plain": [
              "<Figure size 432x288 with 2 Axes>"
            ]
          },
          "metadata": {
            "tags": [],
            "needs_background": "light"
          }
        },
        {
          "output_type": "stream",
          "text": [
            "Episode : 350\n"
          ],
          "name": "stdout"
        },
        {
          "output_type": "display_data",
          "data": {
            "image/png": "[encoded data removed]",
            "text/plain": [
              "<Figure size 432x288 with 2 Axes>"
            ]
          },
          "metadata": {
            "tags": [],
            "needs_background": "light"
          }
        },
        {
          "output_type": "stream",
          "text": [
            "Episode : 400\n"
          ],
          "name": "stdout"
        },
        {
          "output_type": "display_data",
          "data": {
            "image/png": "[encoded data removed]",
            "text/plain": [
              "<Figure size 432x288 with 2 Axes>"
            ]
          },
          "metadata": {
            "tags": [],
            "needs_background": "light"
          }
        },
        {
          "output_type": "stream",
          "text": [
            "Episode : 450\n"
          ],
          "name": "stdout"
        },
        {
          "output_type": "display_data",
          "data": {
            "image/png": "[encoded data removed]",
            "text/plain": [
              "<Figure size 432x288 with 2 Axes>"
            ]
          },
          "metadata": {
            "tags": [],
            "needs_background": "light"
          }
        },
        {
          "output_type": "stream",
          "text": [
            "Episode : 500\n"
          ],
          "name": "stdout"
        },
        {
          "output_type": "display_data",
          "data": {
            "image/png": "[encoded data removed]",
            "text/plain": [
              "<Figure size 432x288 with 2 Axes>"
            ]
          },
          "metadata": {
            "tags": [],
            "needs_background": "light"
          }
        }
      ]
    },
    {
      "cell_type": "code",
      "metadata": {
        "colab": {
          "base_uri": "https://localhost:8080/",
          "height": 580
        },
        "id": "oLyl5Y7cEsVZ",
        "outputId": "ae896b0d-7a07-45b2-ef46-7cede0a99157"
      },
      "source": [
        "MC = MazeGrid(9)\n",
        "MC.on_policy_first_visit_MC(episodes = 500)"
      ],
      "execution_count": null,
      "outputs": [
        {
          "output_type": "stream",
          "text": [
            "EPisode: 5\n"
          ],
          "name": "stdout"
        },
        {
          "output_type": "display_data",
          "data": {
            "image/png": "[encoded data removed]",
            "text/plain": [
              "<Figure size 432x288 with 2 Axes>"
            ]
          },
          "metadata": {
            "tags": [],
            "needs_background": "light"
          }
        },
        {
          "output_type": "stream",
          "text": [
            "EPisode: 10\n"
          ],
          "name": "stdout"
        },
        {
          "output_type": "display_data",
          "data": {
            "image/png": "[encoded data removed]",
            "text/plain": [
              "<Figure size 432x288 with 2 Axes>"
            ]
          },
          "metadata": {
            "tags": [],
            "needs_background": "light"
          }
        }
      ]
    },
    {
      "cell_type": "code",
      "metadata": {
        "id": "5N1sBeVT6VOP"
      },
      "source": [
        "# Some code checking\r\n",
        "test = MazeGrid(9)\r\n",
        "test.current_state"
      ],
      "execution_count": null,
      "outputs": []
    },
    {
      "cell_type": "code",
      "metadata": {
        "id": "SepF0OLzRLpT"
      },
      "source": [
        "# set state so that the barrier is to the right , and bomb is just above\r\n",
        "\r\n",
        "# testing my step function with change_values = False and also testing \r\n",
        "# how I can through my state_values using s_prime from step\r\n",
        "test.current_state = (2, 3)\r\n",
        "test.state_action_values[3, 3] = 10\r\n",
        "print('terminal: ', test.terminal)\r\n",
        "up = test.step(test.current_state, action = Actions[1], change_values = False)[0]\r\n",
        "print(test.state_action_values[up], test.terminal)\r\n",
        "\r\n",
        "#test step into bomb\r\n",
        "print('Current State:' , test.current_state)\r\n",
        "print(' taking step South ...')\r\n",
        "next_state, reward = test.step(test.current_state, Actions[1])\r\n",
        "\r\n",
        "#also report current_state along with next_state to see if it's being updated correctly\r\n",
        "print('New State && Reward:' , test.current_state, next_state, reward) \r\n",
        "print('\\n')\r\n",
        "\r\n",
        "# go back to state (8, 3) and check step into barrier\r\n",
        "test.current_state = (8, 3)\r\n",
        "print('Current State:' , test.current_state)\r\n",
        "print(' taking step North ...')\r\n",
        "next_state, reward = test.step(test.current_state, Actions[0])\r\n",
        "print('New State && Reward:' , test.current_state, next_state, reward)\r\n",
        "\r\n",
        "print('\\n')\r\n",
        "# from state (3, 4), check what happens if step South and win\r\n",
        "test.current_state = (3, 4)\r\n",
        "print('Current State:' , test.current_state)\r\n",
        "print(' taking step South...')\r\n",
        "next_state, reward = test.step(test.current_state, Actions[1])\r\n",
        "print('New State && Reward:' , test.current_state, next_state, reward)\r\n",
        "\r\n"
      ],
      "execution_count": null,
      "outputs": []
    },
    {
      "cell_type": "code",
      "metadata": {
        "colab": {
          "base_uri": "https://localhost:8080/"
        },
        "id": "DlwO32pa6Jtl",
        "outputId": "5b4b0cdd-e2e0-431d-ab09-6a5c680fb348"
      },
      "source": [
        "x = [-1, -2]\n",
        "np.abs(x)\n",
        "np.max(np.abs(x))\n",
        "visited = collections.defaultdict(lambda:False)\n",
        "visited[2] = True\n",
        "visited[2]"
      ],
      "execution_count": 118,
      "outputs": [
        {
          "output_type": "execute_result",
          "data": {
            "text/plain": [
              "False"
            ]
          },
          "metadata": {
            "tags": []
          },
          "execution_count": 118
        }
      ]
    }
  ]
}