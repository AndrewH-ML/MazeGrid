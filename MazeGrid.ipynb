{
  "nbformat": 4,
  "nbformat_minor": 0,
  "metadata": {
    "colab": {
      "name": "MazeGrid",
      "provenance": [],
      "collapsed_sections": [],
      "machine_shape": "hm",
      "authorship_tag": "ABX9TyMCXwr9rnjHaVjqQl75G3U0",
      "include_colab_link": true
    },
    "kernelspec": {
      "display_name": "Python 3",
      "name": "python3"
    },
    "accelerator": "TPU"
  },
  "cells": [
    {
      "cell_type": "markdown",
      "metadata": {
        "id": "view-in-github",
        "colab_type": "text"
      },
      "source": [
        "<a href=\"https://colab.research.google.com/github/AndrewH707/MazeGrid/blob/main/MazeGrid.ipynb\" target=\"_parent\"><img src=\"https://colab.research.google.com/assets/colab-badge.svg\" alt=\"Open In Colab\"/></a>"
      ]
    },
    {
      "cell_type": "code",
      "metadata": {
        "id": "qKu9XqxUIKjv"
      },
      "source": [
        "import collections"
      ],
      "execution_count": 1,
      "outputs": []
    },
    {
      "cell_type": "code",
      "metadata": {
        "id": "-8RVdvfM2kZX",
        "colab": {
          "base_uri": "https://localhost:8080/"
        },
        "outputId": "c35d49ef-1b14-494d-ffa2-449c176f5b33"
      },
      "source": [
        "from psutil import virtual_memory\n",
        "ram_gb = virtual_memory().total / 1e9\n",
        "print('Your runtime has {:.1f} gigabytes of available RAM\\n'.format(ram_gb))\n",
        "\n",
        "if ram_gb < 20:\n",
        "  print('To enable a high-RAM runtime, select the Runtime > \"Change runtime type\"')\n",
        "  print('menu, and then select High-RAM in the Runtime shape dropdown. Then, ')\n",
        "  print('re-execute this cell.')\n",
        "else:\n",
        "  print('You are using a high-RAM runtime!')"
      ],
      "execution_count": 2,
      "outputs": [
        {
          "output_type": "stream",
          "text": [
            "Your runtime has 38.0 gigabytes of available RAM\n",
            "\n",
            "You are using a high-RAM runtime!\n"
          ],
          "name": "stdout"
        }
      ]
    },
    {
      "cell_type": "code",
      "metadata": {
        "id": "lZz7_vnXjouY"
      },
      "source": [
        "import numpy as np\n",
        "from matplotlib import pyplot as plt\n",
        "\n",
        "Actions = {\n",
        "    0: [-1, 0], # north\n",
        "    1: [1, 0], # south\n",
        "    2: [0, -1], # west\n",
        "    3: [0, 1] # east\n",
        "} \n",
        "\n",
        "##################\n",
        "# In this game, there are two fixed bombs and the agent randomly starts\n",
        "# at one of the four corners. There are four barriers blocking the entrance\n",
        "# to the desired terminal state(the chest). There are only two appropriate\n",
        "# paths to the chest. The two bombs are also terminal states. \n",
        "####################\n",
        "\n",
        "class MazeGrid():\n",
        "\n",
        "  def __init__(self, size):\n",
        "    # this function initializes the environment \n",
        "    self.size = size \n",
        "    self.hard_reset()\n",
        "    return\n",
        "\n",
        "  def hard_reset(self):\n",
        "    self.state_action_values = collections.defaultdict(float)\n",
        "    self.reset()\n",
        "\n",
        "  def reset(self): # this function resets the grid to initial conditions\n",
        "    self.terminal  = False\n",
        "    self.current_state = self.corner()\n",
        "    return\n",
        "  \n",
        "  # randomly picks corner to start new game from\n",
        "  def corner(self):\n",
        "    row, column = np.random.choice([0, 8], 2)\n",
        "    corner = (row, column)\n",
        "    return corner\n",
        "\n",
        "  def collision(self, state):\n",
        "    # this function checks whether the given state is a collision with \n",
        "    # a barrier\n",
        "    # returns true for collision,  false for no collision\n",
        "    if state in [(4, 3), (5, 3), (6, 3), (7, 3), (7, 4), (1, 4), (1, 5), (2, 5), (3, 5), (4, 5)]:\n",
        "      return True\n",
        "    else: return False\n",
        "\n",
        "  def bomb(self, state):\n",
        "    # checks to see if the given state is on a bomb and returns true if it is\n",
        "    if state in [(3, 3), (5, 5)]:\n",
        "      return True\n",
        "    else:\n",
        "      return False\n",
        "\n",
        "  def step(self, current_state, action, change_values = True): # this step function takes in an action and \n",
        "                                 # the current state as input. \n",
        "\n",
        "    # check to see if it's the winning grid cell \n",
        "    if (current_state == (4, 4)):\n",
        "      reward = 10\n",
        "      if (change_values == True):\n",
        "        self.terminal = True\n",
        "      return current_state, reward\n",
        "\n",
        "    # check for any bombs\n",
        "    if (self.bomb(current_state) == True):\n",
        "      reward = -10\n",
        "      if (change_values == True):\n",
        "        self.terminal = True\n",
        "      return current_state, reward\n",
        "\n",
        "    reward = -1 # on all non-terminal transitions \n",
        "    size = self.size - 1\n",
        "\n",
        "    s_prime = (current_state[0] + action[0], current_state[1] + action[1])\n",
        "   \n",
        "   # check out of bounds condition vertical\n",
        "    if s_prime[0] < 0 or s_prime[0] > size:\n",
        "      s_prime = current_state # return same state\n",
        "    # check out of bounds condition; horizontal\n",
        "    if s_prime[1] < 0 or s_prime[1] > size:\n",
        "      s_prime = current_state\n",
        "    # check for any collisions with barriers \n",
        "    if (self.collision(s_prime) == True):\n",
        "      s_prime = current_state\n",
        "      reward = -2\n",
        "\n",
        "    #no more remaning checks, return next state and reward\n",
        "    if (change_values == True):\n",
        "      self.current_state = s_prime\n",
        "    \n",
        "    return s_prime, reward \n",
        "\n",
        "  def best_action(self, state):\n",
        "    up = self.state_action_values[state, 0]\n",
        "    down = self.state_action_values[state, 1]\n",
        "    left = self.state_action_values[state, 2]\n",
        "    right = self.state_action_values[state, 3]\n",
        "    action_values  = [up, down, left, right]\n",
        "    a = np.random.choice(np.flatnonzero(action_values == np.max(action_values)))\n",
        "    return a # return index of the best Action\n",
        "\n",
        "  def e_greedy(self, epsilon, state):\n",
        "    greedy = (1 - epsilon) + (epsilon/len(Actions))\n",
        "    non_greedy = epsilon/len(Actions)\n",
        "    p = [greedy, non_greedy]\n",
        "    p = np.array(p)\n",
        "    p /= p.sum() #normalize probabilities so they sum to 1\n",
        "    choice = np.random.choice(['greedy', 'non-greedy'], p = p)  \n",
        "\n",
        "    if choice == 'greedy':\n",
        "      action_index = self.best_action(state)# return index of best action\n",
        "\n",
        "    else:\n",
        "\n",
        "      index_options = [0, 1, 2, 3]\n",
        "      index_options.remove(self.best_action(state))\n",
        "      action_index = np.random.choice(a = index_options) # a random choice from a list \n",
        "                                                # of non-optimal action indicies\n",
        "      \n",
        "    return action_index\n",
        "\n",
        "\n",
        "  def MC_episode(self, epsilon):\n",
        "    self.reset()\n",
        "    episode = []\n",
        "    current_state = self.current_state\n",
        "    while (self.terminal != True):\n",
        "      action_index = self.e_greedy(epsilon, current_state)\n",
        "      action = Actions[action_index]\n",
        "      next_state, reward = self.step(current_state, action)\n",
        "      episode.append((current_state, action_index, reward))\n",
        "      current_state = next_state\n",
        "    return episode\n",
        "\n",
        "  # Here, we implmenent an on-policy first-visit algorithm for \n",
        "  # Monte Carlo control\n",
        "\n",
        "  def on_policy_first_visit_MC(self, gamma = 0.1, epsilon = 0.1, episodes = 50):\n",
        "    self.hard_reset()\n",
        "    counts = collections.defaultdict(int)\n",
        "    returns = collections.defaultdict(float)\n",
        "    for i in range(episodes): # number of episodes\n",
        "      episode = self.MC_episode(epsilon)\n",
        "      G = 0 # initialize return\n",
        "      state_action_pairs = [(s, a) for (s, a, r) in episode]\n",
        "      for t, (state, action, reward) in enumerate(episode):\n",
        "        G = gamma*G + reward\n",
        "        # check if the pair already exists\n",
        "        if not (state, action) in state_action_pairs[0:t]:\n",
        "          returns[state, action] += G\n",
        "          counts[state, action] += 1\n",
        "          self.state_action_values[state, action] = returns[state, action]/counts[state, action]\n",
        "      if (i % 10 == 0):\n",
        "        print('Episode: ', i)\n",
        "        self.visualize(self.state_action_values)\n",
        "    return \n",
        "  def Q_learning(self, gamma, epsilon, alpha, episodes):\n",
        "    self.hard_reset()\n",
        "    for i in range(episodes):\n",
        "      self.reset()\n",
        "      state = self.current_state\n",
        "      while (self.terminal != True):\n",
        "        a = self.e_greedy(epsilon, state)\n",
        "        next_state, reward = self.step(state, Actions[a], change_values = True)\n",
        "        next_a = self.best_action(next_state)\n",
        "        next_s_a_value = self.state_action_values[next_state, next_a]\n",
        "        current_s_a_value = self.state_action_values[state, a]\n",
        "        self.state_action_values[state, a] = current_s_a_value + alpha*(reward + gamma*next_s_a_value - current_s_a_value)\n",
        "        state = next_state\n",
        "\n",
        "      if (i % 10 == 0):\n",
        "        print('Episode :', i)\n",
        "        self.visualize(self.state_action_values) # create plot\n",
        "    return\n",
        "\n",
        "  def visualize(self, dictionary):\n",
        "    size = self.size\n",
        "    z = np.zeros((size,size))\n",
        "    for key in dictionary:\n",
        "      state = (key[0][0], key[0][1])\n",
        "      value = dictionary[key]\n",
        "      if np.abs(value) > np.abs(z[state[0], state[1]]):\n",
        "        z[state[0], state[1]] = value\n",
        "    c = plt.imshow(z, cmap = 'hot', interpolation= 'nearest')\n",
        "    plt.colorbar(c)\n",
        "    plt.title('State Values')\n",
        "    plt.show()\n",
        "    return \n"
      ],
      "execution_count": 3,
      "outputs": []
    },
    {
      "cell_type": "code",
      "metadata": {
        "colab": {
          "base_uri": "https://localhost:8080/",
          "height": 1000
        },
        "id": "v8tcs3xNGDyc",
        "outputId": "258ddf20-39cd-4949-daa0-f8dbe8ba5969"
      },
      "source": [
        "Q = MazeGrid(9)\n",
        "Q.Q_learning(gamma = 1, epsilon=0.1, alpha = 0.01, episodes = 50)"
      ],
      "execution_count": 4,
      "outputs": [
        {
          "output_type": "stream",
          "text": [
            "Episode : 0\n"
          ],
          "name": "stdout"
        },
        {
          "output_type": "display_data",
          "data": {
            "image/png": "[encoded data removed]",
            "text/plain": [
              "<Figure size 432x288 with 2 Axes>"
            ]
          },
          "metadata": {
            "tags": [],
            "needs_background": "light"
          }
        },
        {
          "output_type": "stream",
          "text": [
            "Episode : 10\n"
          ],
          "name": "stdout"
        },
        {
          "output_type": "display_data",
          "data": {
            "image/png": "[encoded data removed]",
            "text/plain": [
              "<Figure size 432x288 with 2 Axes>"
            ]
          },
          "metadata": {
            "tags": [],
            "needs_background": "light"
          }
        },
        {
          "output_type": "stream",
          "text": [
            "Episode : 20\n"
          ],
          "name": "stdout"
        },
        {
          "output_type": "display_data",
          "data": {
            "image/png": "[encoded data removed]",
            "text/plain": [
              "<Figure size 432x288 with 2 Axes>"
            ]
          },
          "metadata": {
            "tags": [],
            "needs_background": "light"
          }
        },
        {
          "output_type": "stream",
          "text": [
            "Episode : 30\n"
          ],
          "name": "stdout"
        },
        {
          "output_type": "display_data",
          "data": {
            "image/png": "[encoded data removed]",
            "text/plain": [
              "<Figure size 432x288 with 2 Axes>"
            ]
          },
          "metadata": {
            "tags": [],
            "needs_background": "light"
          }
        },
        {
          "output_type": "stream",
          "text": [
            "Episode : 40\n"
          ],
          "name": "stdout"
        },
        {
          "output_type": "display_data",
          "data": {
            "image/png": "[encoded data removed]",
            "text/plain": [
              "<Figure size 432x288 with 2 Axes>"
            ]
          },
          "metadata": {
            "tags": [],
            "needs_background": "light"
          }
        }
      ]
    },
    {
      "cell_type": "code",
      "metadata": {
        "colab": {
          "base_uri": "https://localhost:8080/",
          "height": 1000
        },
        "id": "oLyl5Y7cEsVZ",
        "outputId": "150112ca-73b6-4e89-b1ac-85268d156d9b"
      },
      "source": [
        "#create an instance of the MazeGrid class and specify a 9 by 9 arrangement of the game\n",
        "MC = MazeGrid(9)\n",
        "MC.on_policy_first_visit_MC() #use an on-policy first visit monte carlo approach"
      ],
      "execution_count": 5,
      "outputs": [
        {
          "output_type": "stream",
          "text": [
            "Episode:  0\n"
          ],
          "name": "stdout"
        },
        {
          "output_type": "display_data",
          "data": {
            "image/png": "[encoded data removed]",
            "text/plain": [
              "<Figure size 432x288 with 2 Axes>"
            ]
          },
          "metadata": {
            "tags": [],
            "needs_background": "light"
          }
        },
        {
          "output_type": "stream",
          "text": [
            "Episode:  10\n"
          ],
          "name": "stdout"
        },
        {
          "output_type": "display_data",
          "data": {
            "image/png": "[encoded data removed]",
            "text/plain": [
              "<Figure size 432x288 with 2 Axes>"
            ]
          },
          "metadata": {
            "tags": [],
            "needs_background": "light"
          }
        },
        {
          "output_type": "stream",
          "text": [
            "Episode:  20\n"
          ],
          "name": "stdout"
        },
        {
          "output_type": "display_data",
          "data": {
            "image/png": "[encoded data removed]",
            "text/plain": [
              "<Figure size 432x288 with 2 Axes>"
            ]
          },
          "metadata": {
            "tags": [],
            "needs_background": "light"
          }
        },
        {
          "output_type": "stream",
          "text": [
            "Episode:  30\n"
          ],
          "name": "stdout"
        },
        {
          "output_type": "display_data",
          "data": {
            "image/png": "[encoded data removed]",
            "text/plain": [
              "<Figure size 432x288 with 2 Axes>"
            ]
          },
          "metadata": {
            "tags": [],
            "needs_background": "light"
          }
        },
        {
          "output_type": "stream",
          "text": [
            "Episode:  40\n"
          ],
          "name": "stdout"
        },
        {
          "output_type": "display_data",
          "data": {
            "image/png": "[encoded data removed]",
            "text/plain": [
              "<Figure size 432x288 with 2 Axes>"
            ]
          },
          "metadata": {
            "tags": [],
            "needs_background": "light"
          }
        }
      ]
    },
    {
      "cell_type": "code",
      "metadata": {
        "id": "5N1sBeVT6VOP",
        "colab": {
          "base_uri": "https://localhost:8080/"
        },
        "outputId": "36c8df30-7c21-4c6e-a657-af5f86fd3938"
      },
      "source": [
        "test = MazeGrid(9)\n",
        "test.current_state"
      ],
      "execution_count": 6,
      "outputs": [
        {
          "output_type": "execute_result",
          "data": {
            "text/plain": [
              "(8, 0)"
            ]
          },
          "metadata": {
            "tags": []
          },
          "execution_count": 6
        }
      ]
    },
    {
      "cell_type": "code",
      "metadata": {
        "id": "SepF0OLzRLpT",
        "colab": {
          "base_uri": "https://localhost:8080/"
        },
        "outputId": "d4f57516-8ef1-48e0-efbe-8cba4db25241"
      },
      "source": [
        "# set state so that the barrier is to the right , and bomb is just above\n",
        "\n",
        "# testing my step function with change_values = False and also testing \n",
        "# how I can through my state_values using s_prime from step\n",
        "test.current_state = (2, 3)\n",
        "test.state_action_values[3, 3] = 10\n",
        "print('terminal: ', test.terminal)\n",
        "up = test.step(test.current_state, action = Actions[1], change_values = False)[0]\n",
        "print(test.state_action_values[up], test.terminal)\n",
        "\n",
        "#test step into bomb\n",
        "print('Current State:' , test.current_state)\n",
        "print(' taking step South ...')\n",
        "next_state, reward = test.step(test.current_state, Actions[1])\n",
        "\n",
        "#also report current_state along with next_state to see if it's being updated correctly\n",
        "print('New State && Reward:' , test.current_state, next_state, reward) \n",
        "print('\\n')\n",
        "\n",
        "# go back to state (8, 3) and check step into barrier\n",
        "test.current_state = (8, 3)\n",
        "print('Current State:' , test.current_state)\n",
        "print(' taking step North ...')\n",
        "next_state, reward = test.step(test.current_state, Actions[0])\n",
        "print('New State && Reward:' , test.current_state, next_state, reward)\n",
        "\n",
        "print('\\n')\n",
        "# from state (3, 4), check what happens if step South and win\n",
        "test.current_state = (3, 4)\n",
        "print('Current State:' , test.current_state)\n",
        "print(' taking step South...')\n",
        "next_state, reward = test.step(test.current_state, Actions[1])\n",
        "print('New State && Reward:' , test.current_state, next_state, reward)\n",
        "\n"
      ],
      "execution_count": 7,
      "outputs": [
        {
          "output_type": "stream",
          "text": [
            "terminal:  False\n",
            "10 False\n",
            "Current State: (2, 3)\n",
            " taking step South ...\n",
            "New State && Reward: (3, 3) (3, 3) -1\n",
            "\n",
            "\n",
            "Current State: (8, 3)\n",
            " taking step North ...\n",
            "New State && Reward: (8, 3) (8, 3) -2\n",
            "\n",
            "\n",
            "Current State: (3, 4)\n",
            " taking step South...\n",
            "New State && Reward: (4, 4) (4, 4) -1\n"
          ],
          "name": "stdout"
        }
      ]
    }
  ]
}